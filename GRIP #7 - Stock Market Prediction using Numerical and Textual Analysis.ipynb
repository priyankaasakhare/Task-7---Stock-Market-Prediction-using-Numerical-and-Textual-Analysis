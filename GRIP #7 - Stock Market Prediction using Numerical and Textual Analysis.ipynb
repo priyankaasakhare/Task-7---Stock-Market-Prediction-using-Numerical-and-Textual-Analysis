{
 "cells": [
  {
   "cell_type": "markdown",
   "metadata": {},
   "source": [
    "# Author : Priyanka Sakhare\n",
    "**GRIP @ The Sparks Foundation**\n",
    "\n",
    "**Task #7 : Stock Market Prediction using Numerical and Textual Analysis**\n",
    "\n",
    "**Objective: Create a hybrid model for stock price/performance prediction using numerical analysis of historical stock prices, and sentimental analysis of news headlines**\n",
    "\n",
    "Stock to analyze and predict - SENSEX (S&P BSE SENSEX)\n",
    "\n",
    "● Download historical stock prices from finance.yahoo.com\n",
    "\n",
    "● Download textual (news) data from https://bit.ly/36fFPI6\n"
   ]
  },
  {
   "cell_type": "markdown",
   "metadata": {},
   "source": [
    "### The task demands to form a model using the Numerical as well as Textual analysis of Stock Market Prices and News Headlines respectively. "
   ]
  },
  {
   "cell_type": "markdown",
   "metadata": {},
   "source": [
    "## Importing the required libraries :"
   ]
  },
  {
   "cell_type": "code",
   "execution_count": 3,
   "metadata": {},
   "outputs": [
    {
     "name": "stdout",
     "output_type": "stream",
     "text": [
      "Requirement already satisfied: keras in c:\\programdata\\anaconda3\\lib\\site-packages (2.4.3)\n",
      "Collecting h5py\n",
      "  Downloading h5py-3.3.0-cp38-cp38-win_amd64.whl (2.8 MB)\n",
      "Requirement already satisfied: scipy>=0.14 in c:\\programdata\\anaconda3\\lib\\site-packages (from keras) (1.5.2)\n",
      "Requirement already satisfied: numpy>=1.9.1 in c:\\programdata\\anaconda3\\lib\\site-packages (from keras) (1.19.2)\n",
      "Requirement already satisfied: pyyaml in c:\\programdata\\anaconda3\\lib\\site-packages (from keras) (5.3.1)\n",
      "Installing collected packages: h5py\n",
      "Successfully installed h5py-3.3.0\n",
      "Collecting tensorflow\n",
      "  Using cached tensorflow-2.5.0-cp38-cp38-win_amd64.whl (422.6 MB)\n",
      "Requirement already satisfied: grpcio~=1.34.0 in c:\\programdata\\anaconda3\\lib\\site-packages (from tensorflow) (1.34.1)\n",
      "Requirement already satisfied: numpy~=1.19.2 in c:\\programdata\\anaconda3\\lib\\site-packages (from tensorflow) (1.19.2)\n",
      "Requirement already satisfied: wrapt~=1.12.1 in c:\\programdata\\anaconda3\\lib\\site-packages (from tensorflow) (1.12.1)\n",
      "Collecting keras-preprocessing~=1.1.2\n",
      "  Using cached Keras_Preprocessing-1.1.2-py2.py3-none-any.whl (42 kB)\n",
      "Requirement already satisfied: six~=1.15.0 in c:\\programdata\\anaconda3\\lib\\site-packages (from tensorflow) (1.15.0)\n",
      "Requirement already satisfied: opt-einsum~=3.3.0 in c:\\programdata\\anaconda3\\lib\\site-packages (from tensorflow) (3.3.0)\n",
      "Requirement already satisfied: keras-nightly~=2.5.0.dev in c:\\programdata\\anaconda3\\lib\\site-packages (from tensorflow) (2.5.0.dev2021032900)\n",
      "Requirement already satisfied: astunparse~=1.6.3 in c:\\programdata\\anaconda3\\lib\\site-packages (from tensorflow) (1.6.3)\n",
      "Requirement already satisfied: absl-py~=0.10 in c:\\programdata\\anaconda3\\lib\\site-packages (from tensorflow) (0.13.0)\n",
      "Requirement already satisfied: typing-extensions~=3.7.4 in c:\\programdata\\anaconda3\\lib\\site-packages (from tensorflow) (3.7.4.3)\n",
      "Collecting h5py~=3.1.0\n",
      "  Using cached h5py-3.1.0-cp38-cp38-win_amd64.whl (2.7 MB)\n",
      "Requirement already satisfied: termcolor~=1.1.0 in c:\\programdata\\anaconda3\\lib\\site-packages (from tensorflow) (1.1.0)\n",
      "Requirement already satisfied: gast==0.4.0 in c:\\programdata\\anaconda3\\lib\\site-packages (from tensorflow) (0.4.0)\n",
      "Requirement already satisfied: wheel~=0.35 in c:\\programdata\\anaconda3\\lib\\site-packages (from tensorflow) (0.35.1)\n",
      "Requirement already satisfied: google-pasta~=0.2 in c:\\programdata\\anaconda3\\lib\\site-packages (from tensorflow) (0.2.0)\n",
      "Requirement already satisfied: protobuf>=3.9.2 in c:\\programdata\\anaconda3\\lib\\site-packages (from tensorflow) (3.17.3)\n",
      "Requirement already satisfied: tensorflow-estimator<2.6.0,>=2.5.0rc0 in c:\\programdata\\anaconda3\\lib\\site-packages (from tensorflow) (2.5.0)\n",
      "Requirement already satisfied: tensorboard~=2.5 in c:\\programdata\\anaconda3\\lib\\site-packages (from tensorflow) (2.5.0)\n",
      "Requirement already satisfied: flatbuffers~=1.12.0 in c:\\programdata\\anaconda3\\lib\\site-packages (from tensorflow) (1.12)\n",
      "Requirement already satisfied: requests<3,>=2.21.0 in c:\\programdata\\anaconda3\\lib\\site-packages (from tensorboard~=2.5->tensorflow) (2.24.0)\n",
      "Requirement already satisfied: setuptools>=41.0.0 in c:\\programdata\\anaconda3\\lib\\site-packages (from tensorboard~=2.5->tensorflow) (50.3.1.post20201107)\n",
      "Requirement already satisfied: tensorboard-plugin-wit>=1.6.0 in c:\\programdata\\anaconda3\\lib\\site-packages (from tensorboard~=2.5->tensorflow) (1.8.0)\n",
      "Requirement already satisfied: google-auth-oauthlib<0.5,>=0.4.1 in c:\\programdata\\anaconda3\\lib\\site-packages (from tensorboard~=2.5->tensorflow) (0.4.5)\n",
      "Requirement already satisfied: tensorboard-data-server<0.7.0,>=0.6.0 in c:\\programdata\\anaconda3\\lib\\site-packages (from tensorboard~=2.5->tensorflow) (0.6.1)\n",
      "Requirement already satisfied: markdown>=2.6.8 in c:\\programdata\\anaconda3\\lib\\site-packages (from tensorboard~=2.5->tensorflow) (3.3.4)\n",
      "Requirement already satisfied: werkzeug>=0.11.15 in c:\\programdata\\anaconda3\\lib\\site-packages (from tensorboard~=2.5->tensorflow) (1.0.1)\n",
      "Requirement already satisfied: google-auth<2,>=1.6.3 in c:\\programdata\\anaconda3\\lib\\site-packages (from tensorboard~=2.5->tensorflow) (1.34.0)\n",
      "Requirement already satisfied: certifi>=2017.4.17 in c:\\programdata\\anaconda3\\lib\\site-packages (from requests<3,>=2.21.0->tensorboard~=2.5->tensorflow) (2020.6.20)\n",
      "Requirement already satisfied: urllib3!=1.25.0,!=1.25.1,<1.26,>=1.21.1 in c:\\programdata\\anaconda3\\lib\\site-packages (from requests<3,>=2.21.0->tensorboard~=2.5->tensorflow) (1.25.11)\n",
      "Requirement already satisfied: chardet<4,>=3.0.2 in c:\\programdata\\anaconda3\\lib\\site-packages (from requests<3,>=2.21.0->tensorboard~=2.5->tensorflow) (3.0.4)\n",
      "Requirement already satisfied: idna<3,>=2.5 in c:\\programdata\\anaconda3\\lib\\site-packages (from requests<3,>=2.21.0->tensorboard~=2.5->tensorflow) (2.10)\n",
      "Requirement already satisfied: requests-oauthlib>=0.7.0 in c:\\programdata\\anaconda3\\lib\\site-packages (from google-auth-oauthlib<0.5,>=0.4.1->tensorboard~=2.5->tensorflow) (1.3.0)\n",
      "Requirement already satisfied: cachetools<5.0,>=2.0.0 in c:\\programdata\\anaconda3\\lib\\site-packages (from google-auth<2,>=1.6.3->tensorboard~=2.5->tensorflow) (4.2.2)\n",
      "Requirement already satisfied: pyasn1-modules>=0.2.1 in c:\\programdata\\anaconda3\\lib\\site-packages (from google-auth<2,>=1.6.3->tensorboard~=2.5->tensorflow) (0.2.8)\n",
      "Requirement already satisfied: rsa<5,>=3.1.4; python_version >= \"3.6\" in c:\\programdata\\anaconda3\\lib\\site-packages (from google-auth<2,>=1.6.3->tensorboard~=2.5->tensorflow) (4.7.2)\n",
      "Requirement already satisfied: oauthlib>=3.0.0 in c:\\programdata\\anaconda3\\lib\\site-packages (from requests-oauthlib>=0.7.0->google-auth-oauthlib<0.5,>=0.4.1->tensorboard~=2.5->tensorflow) (3.1.1)\n",
      "Requirement already satisfied: pyasn1<0.5.0,>=0.4.6 in c:\\programdata\\anaconda3\\lib\\site-packages (from pyasn1-modules>=0.2.1->google-auth<2,>=1.6.3->tensorboard~=2.5->tensorflow) (0.4.8)\n",
      "Installing collected packages: keras-preprocessing, h5py, tensorflow\n",
      "  Attempting uninstall: h5py\n",
      "    Found existing installation: h5py 3.3.0\n",
      "    Uninstalling h5py-3.3.0:\n",
      "      Successfully uninstalled h5py-3.3.0\n",
      "Successfully installed h5py-3.1.0 keras-preprocessing-1.1.2 tensorflow-2.5.0\n"
     ]
    }
   ],
   "source": [
    "!pip3 install keras\n",
    "!pip3 install tensorflow\n",
    "import pandas as pd\n",
    "import numpy as np\n",
    "import matplotlib.pyplot as plt\n",
    "from sklearn import preprocessing\n",
    "import keras\n",
    "from keras.models import Sequential\n",
    "from keras.layers import Dense, LSTM,Dropout,Activation\n",
    "import nltk\n",
    "from nltk.sentiment.vader import SentimentIntensityAnalyzer"
   ]
  },
  {
   "cell_type": "markdown",
   "metadata": {},
   "source": [
    "#### Incase you don't have 'vader_lexicon' package of nltk downloaded, we can run the dollowing snippet : "
   ]
  },
  {
   "cell_type": "markdown",
   "metadata": {},
   "source": [
    "###### This is important for SentimentIntensityAnalyzer from nltk.sentiment.vader"
   ]
  },
  {
   "cell_type": "markdown",
   "metadata": {},
   "source": [
    "# Load the Datasets \n",
    "\n",
    "<b>'BSESN.csv'</b> has downloaded from https://bit.ly/3kXTdox and \n",
    "<b>'india-news-headlines.csv'</b> has been downloaded from https://bit.ly/3kXTdox \n"
   ]
  },
  {
   "cell_type": "code",
   "execution_count": 5,
   "metadata": {},
   "outputs": [],
   "source": [
    "stock_price = pd.read_csv('E:\\BSESN.csv')\n",
    "headlines = pd.read_csv('E:\\india-news-headlines.csv')"
   ]
  },
  {
   "cell_type": "markdown",
   "metadata": {},
   "source": [
    "## Preliminary actions on stock_price dataset :"
   ]
  },
  {
   "cell_type": "code",
   "execution_count": 6,
   "metadata": {},
   "outputs": [
    {
     "data": {
      "text/plain": [
       "(252, 7)"
      ]
     },
     "execution_count": 6,
     "metadata": {},
     "output_type": "execute_result"
    }
   ],
   "source": [
    "stock_price.shape"
   ]
  },
  {
   "cell_type": "markdown",
   "metadata": {},
   "source": [
    "##### Checking for null values and dropping the respective rows(if any) :"
   ]
  },
  {
   "cell_type": "code",
   "execution_count": 7,
   "metadata": {},
   "outputs": [
    {
     "data": {
      "text/plain": [
       "Date         0\n",
       "Open         2\n",
       "High         2\n",
       "Low          2\n",
       "Close        2\n",
       "Adj Close    2\n",
       "Volume       2\n",
       "dtype: int64"
      ]
     },
     "execution_count": 7,
     "metadata": {},
     "output_type": "execute_result"
    }
   ],
   "source": [
    "stock_price.isna().sum()"
   ]
  },
  {
   "cell_type": "code",
   "execution_count": 8,
   "metadata": {},
   "outputs": [],
   "source": [
    "stock_price.dropna(axis=0,inplace=True)"
   ]
  },
  {
   "cell_type": "markdown",
   "metadata": {},
   "source": [
    "#### Converting the Date column of stock_prices to DateTime object to arrange the given prices according to the date in increasing order :"
   ]
  },
  {
   "cell_type": "code",
   "execution_count": 9,
   "metadata": {},
   "outputs": [
    {
     "data": {
      "text/html": [
       "<div>\n",
       "<style scoped>\n",
       "    .dataframe tbody tr th:only-of-type {\n",
       "        vertical-align: middle;\n",
       "    }\n",
       "\n",
       "    .dataframe tbody tr th {\n",
       "        vertical-align: top;\n",
       "    }\n",
       "\n",
       "    .dataframe thead th {\n",
       "        text-align: right;\n",
       "    }\n",
       "</style>\n",
       "<table border=\"1\" class=\"dataframe\">\n",
       "  <thead>\n",
       "    <tr style=\"text-align: right;\">\n",
       "      <th></th>\n",
       "      <th>Open</th>\n",
       "      <th>High</th>\n",
       "      <th>Low</th>\n",
       "      <th>Close</th>\n",
       "      <th>Adj Close</th>\n",
       "      <th>Volume</th>\n",
       "    </tr>\n",
       "    <tr>\n",
       "      <th>Date</th>\n",
       "      <th></th>\n",
       "      <th></th>\n",
       "      <th></th>\n",
       "      <th></th>\n",
       "      <th></th>\n",
       "      <th></th>\n",
       "    </tr>\n",
       "  </thead>\n",
       "  <tbody>\n",
       "    <tr>\n",
       "      <th>2019-12-17</th>\n",
       "      <td>41052.359375</td>\n",
       "      <td>41401.648438</td>\n",
       "      <td>41005.179688</td>\n",
       "      <td>41352.171875</td>\n",
       "      <td>41352.171875</td>\n",
       "      <td>19000.0</td>\n",
       "    </tr>\n",
       "    <tr>\n",
       "      <th>2019-12-18</th>\n",
       "      <td>41442.750000</td>\n",
       "      <td>41614.769531</td>\n",
       "      <td>41358.468750</td>\n",
       "      <td>41558.570313</td>\n",
       "      <td>41558.570313</td>\n",
       "      <td>24300.0</td>\n",
       "    </tr>\n",
       "    <tr>\n",
       "      <th>2019-12-19</th>\n",
       "      <td>41571.820313</td>\n",
       "      <td>41719.289063</td>\n",
       "      <td>41456.398438</td>\n",
       "      <td>41673.921875</td>\n",
       "      <td>41673.921875</td>\n",
       "      <td>33300.0</td>\n",
       "    </tr>\n",
       "    <tr>\n",
       "      <th>2019-12-20</th>\n",
       "      <td>41746.199219</td>\n",
       "      <td>41809.960938</td>\n",
       "      <td>41636.109375</td>\n",
       "      <td>41681.539063</td>\n",
       "      <td>41681.539063</td>\n",
       "      <td>33600.0</td>\n",
       "    </tr>\n",
       "    <tr>\n",
       "      <th>2019-12-23</th>\n",
       "      <td>41548.261719</td>\n",
       "      <td>41701.621094</td>\n",
       "      <td>41474.609375</td>\n",
       "      <td>41642.660156</td>\n",
       "      <td>41642.660156</td>\n",
       "      <td>6200.0</td>\n",
       "    </tr>\n",
       "  </tbody>\n",
       "</table>\n",
       "</div>"
      ],
      "text/plain": [
       "                    Open          High           Low         Close  \\\n",
       "Date                                                                 \n",
       "2019-12-17  41052.359375  41401.648438  41005.179688  41352.171875   \n",
       "2019-12-18  41442.750000  41614.769531  41358.468750  41558.570313   \n",
       "2019-12-19  41571.820313  41719.289063  41456.398438  41673.921875   \n",
       "2019-12-20  41746.199219  41809.960938  41636.109375  41681.539063   \n",
       "2019-12-23  41548.261719  41701.621094  41474.609375  41642.660156   \n",
       "\n",
       "               Adj Close   Volume  \n",
       "Date                               \n",
       "2019-12-17  41352.171875  19000.0  \n",
       "2019-12-18  41558.570313  24300.0  \n",
       "2019-12-19  41673.921875  33300.0  \n",
       "2019-12-20  41681.539063  33600.0  \n",
       "2019-12-23  41642.660156   6200.0  "
      ]
     },
     "execution_count": 9,
     "metadata": {},
     "output_type": "execute_result"
    }
   ],
   "source": [
    "stock_price['Date'] = pd.to_datetime(stock_price['Date']).dt.normalize()\n",
    "stock_price.sort_values('Date',ascending=True)\n",
    "stock_price.set_index('Date',inplace=True)\n",
    "stock_price.head(5)"
   ]
  },
  {
   "cell_type": "markdown",
   "metadata": {},
   "source": [
    "## Preliminary actions on headlines dataset :"
   ]
  },
  {
   "cell_type": "markdown",
   "metadata": {},
   "source": [
    "#### Checking if any value is duplicated and dropping the rows with duplicate values (if any) :"
   ]
  },
  {
   "cell_type": "code",
   "execution_count": 10,
   "metadata": {},
   "outputs": [
    {
     "data": {
      "text/plain": [
       "24191"
      ]
     },
     "execution_count": 10,
     "metadata": {},
     "output_type": "execute_result"
    }
   ],
   "source": [
    "headlines.duplicated().sum()"
   ]
  },
  {
   "cell_type": "code",
   "execution_count": 11,
   "metadata": {},
   "outputs": [
    {
     "data": {
      "text/html": [
       "<div>\n",
       "<style scoped>\n",
       "    .dataframe tbody tr th:only-of-type {\n",
       "        vertical-align: middle;\n",
       "    }\n",
       "\n",
       "    .dataframe tbody tr th {\n",
       "        vertical-align: top;\n",
       "    }\n",
       "\n",
       "    .dataframe thead th {\n",
       "        text-align: right;\n",
       "    }\n",
       "</style>\n",
       "<table border=\"1\" class=\"dataframe\">\n",
       "  <thead>\n",
       "    <tr style=\"text-align: right;\">\n",
       "      <th></th>\n",
       "      <th>publish_date</th>\n",
       "      <th>headline_category</th>\n",
       "      <th>headline_text</th>\n",
       "    </tr>\n",
       "  </thead>\n",
       "  <tbody>\n",
       "    <tr>\n",
       "      <th>0</th>\n",
       "      <td>20010102</td>\n",
       "      <td>unknown</td>\n",
       "      <td>Status quo will not be disturbed at Ayodhya; s...</td>\n",
       "    </tr>\n",
       "    <tr>\n",
       "      <th>1</th>\n",
       "      <td>20010102</td>\n",
       "      <td>unknown</td>\n",
       "      <td>Fissures in Hurriyat over Pak visit</td>\n",
       "    </tr>\n",
       "    <tr>\n",
       "      <th>2</th>\n",
       "      <td>20010102</td>\n",
       "      <td>unknown</td>\n",
       "      <td>America's unwanted heading for India?</td>\n",
       "    </tr>\n",
       "    <tr>\n",
       "      <th>3</th>\n",
       "      <td>20010102</td>\n",
       "      <td>unknown</td>\n",
       "      <td>For bigwigs; it is destination Goa</td>\n",
       "    </tr>\n",
       "    <tr>\n",
       "      <th>4</th>\n",
       "      <td>20010102</td>\n",
       "      <td>unknown</td>\n",
       "      <td>Extra buses to clear tourist traffic</td>\n",
       "    </tr>\n",
       "  </tbody>\n",
       "</table>\n",
       "</div>"
      ],
      "text/plain": [
       "   publish_date headline_category  \\\n",
       "0      20010102           unknown   \n",
       "1      20010102           unknown   \n",
       "2      20010102           unknown   \n",
       "3      20010102           unknown   \n",
       "4      20010102           unknown   \n",
       "\n",
       "                                       headline_text  \n",
       "0  Status quo will not be disturbed at Ayodhya; s...  \n",
       "1                Fissures in Hurriyat over Pak visit  \n",
       "2              America's unwanted heading for India?  \n",
       "3                 For bigwigs; it is destination Goa  \n",
       "4               Extra buses to clear tourist traffic  "
      ]
     },
     "execution_count": 11,
     "metadata": {},
     "output_type": "execute_result"
    }
   ],
   "source": [
    "headlines = headlines.drop_duplicates()\n",
    "headlines.head(5)"
   ]
  },
  {
   "cell_type": "markdown",
   "metadata": {},
   "source": [
    "#### Checking for null values and dropping the respective rows (if any) :"
   ]
  },
  {
   "cell_type": "code",
   "execution_count": 12,
   "metadata": {},
   "outputs": [
    {
     "data": {
      "text/plain": [
       "publish_date         0\n",
       "headline_category    0\n",
       "headline_text        0\n",
       "dtype: int64"
      ]
     },
     "execution_count": 12,
     "metadata": {},
     "output_type": "execute_result"
    }
   ],
   "source": [
    "headlines.isnull().sum()"
   ]
  },
  {
   "cell_type": "markdown",
   "metadata": {},
   "source": [
    "#### Selecting only the 'publish_date' and 'headline_text column' from headlines dataset :"
   ]
  },
  {
   "cell_type": "code",
   "execution_count": 13,
   "metadata": {},
   "outputs": [],
   "source": [
    "headlines = headlines.filter(['publish_date','headline_text'])"
   ]
  },
  {
   "cell_type": "markdown",
   "metadata": {},
   "source": [
    "#### As the date in publish_date column is not in right format, so we first bring it to the right format by string manipulation and later convert it to DateTime object :"
   ]
  },
  {
   "cell_type": "code",
   "execution_count": 14,
   "metadata": {},
   "outputs": [],
   "source": [
    "headlines['publish_date'] = headlines['publish_date'].astype(str)\n",
    "headlines['publish_date'] = headlines['publish_date'].apply(lambda x : x[0:4]+'-'+x[4:6]+'-'+x[6:])\n",
    "headlines['publish_date'] = pd.to_datetime(headlines['publish_date']).dt.normalize()"
   ]
  },
  {
   "cell_type": "markdown",
   "metadata": {},
   "source": [
    "#### Grouping the headlines accordding to the publish_date so that all the headlines for a particular date can be kept in a single row, thus reducing the dimensionality of the dataset :"
   ]
  },
  {
   "cell_type": "code",
   "execution_count": 15,
   "metadata": {},
   "outputs": [],
   "source": [
    "headlines = headlines.groupby('publish_date')['headline_text'].apply(lambda x : ''.join(x)).reset_index()"
   ]
  },
  {
   "cell_type": "markdown",
   "metadata": {},
   "source": [
    "#### Changing the index of headlines dataset to 'publish_date' column and sorting the values according to increasing value of index : "
   ]
  },
  {
   "cell_type": "code",
   "execution_count": 16,
   "metadata": {},
   "outputs": [
    {
     "data": {
      "text/html": [
       "<div>\n",
       "<style scoped>\n",
       "    .dataframe tbody tr th:only-of-type {\n",
       "        vertical-align: middle;\n",
       "    }\n",
       "\n",
       "    .dataframe tbody tr th {\n",
       "        vertical-align: top;\n",
       "    }\n",
       "\n",
       "    .dataframe thead th {\n",
       "        text-align: right;\n",
       "    }\n",
       "</style>\n",
       "<table border=\"1\" class=\"dataframe\">\n",
       "  <thead>\n",
       "    <tr style=\"text-align: right;\">\n",
       "      <th></th>\n",
       "      <th>headline_text</th>\n",
       "    </tr>\n",
       "    <tr>\n",
       "      <th>publish_date</th>\n",
       "      <th></th>\n",
       "    </tr>\n",
       "  </thead>\n",
       "  <tbody>\n",
       "    <tr>\n",
       "      <th>2001-01-02</th>\n",
       "      <td>Status quo will not be disturbed at Ayodhya; s...</td>\n",
       "    </tr>\n",
       "    <tr>\n",
       "      <th>2001-01-03</th>\n",
       "      <td>Powerless north India gropes in the darkThink ...</td>\n",
       "    </tr>\n",
       "    <tr>\n",
       "      <th>2001-01-04</th>\n",
       "      <td>The string that pulled Stephen Hawking to Indi...</td>\n",
       "    </tr>\n",
       "    <tr>\n",
       "      <th>2001-01-05</th>\n",
       "      <td>Light combat craft takes India into club class...</td>\n",
       "    </tr>\n",
       "    <tr>\n",
       "      <th>2001-01-06</th>\n",
       "      <td>Light combat craft takes India into club class...</td>\n",
       "    </tr>\n",
       "    <tr>\n",
       "      <th>...</th>\n",
       "      <td>...</td>\n",
       "    </tr>\n",
       "    <tr>\n",
       "      <th>2020-12-27</th>\n",
       "      <td>#BigInterview! Dhritiman Chatterjee: Nobody da...</td>\n",
       "    </tr>\n",
       "    <tr>\n",
       "      <th>2020-12-28</th>\n",
       "      <td>Horoscope Today; 28 December 2020: Check astro...</td>\n",
       "    </tr>\n",
       "    <tr>\n",
       "      <th>2020-12-29</th>\n",
       "      <td>Man recovers charred remains of 'thief' from h...</td>\n",
       "    </tr>\n",
       "    <tr>\n",
       "      <th>2020-12-30</th>\n",
       "      <td>Numerology Readings 30 December 2020: Predicti...</td>\n",
       "    </tr>\n",
       "    <tr>\n",
       "      <th>2020-12-31</th>\n",
       "      <td>Horoscope Today; 31 December 2020: Check astro...</td>\n",
       "    </tr>\n",
       "  </tbody>\n",
       "</table>\n",
       "<p>7262 rows × 1 columns</p>\n",
       "</div>"
      ],
      "text/plain": [
       "                                                  headline_text\n",
       "publish_date                                                   \n",
       "2001-01-02    Status quo will not be disturbed at Ayodhya; s...\n",
       "2001-01-03    Powerless north India gropes in the darkThink ...\n",
       "2001-01-04    The string that pulled Stephen Hawking to Indi...\n",
       "2001-01-05    Light combat craft takes India into club class...\n",
       "2001-01-06    Light combat craft takes India into club class...\n",
       "...                                                         ...\n",
       "2020-12-27    #BigInterview! Dhritiman Chatterjee: Nobody da...\n",
       "2020-12-28    Horoscope Today; 28 December 2020: Check astro...\n",
       "2020-12-29    Man recovers charred remains of 'thief' from h...\n",
       "2020-12-30    Numerology Readings 30 December 2020: Predicti...\n",
       "2020-12-31    Horoscope Today; 31 December 2020: Check astro...\n",
       "\n",
       "[7262 rows x 1 columns]"
      ]
     },
     "execution_count": 16,
     "metadata": {},
     "output_type": "execute_result"
    }
   ],
   "source": [
    "headlines.set_index('publish_date',inplace=True)\n",
    "headlines.sort_index()"
   ]
  },
  {
   "cell_type": "markdown",
   "metadata": {},
   "source": [
    "## Concatenating both the datasets to form the required dataframe 'df' :\n",
    "### Dropping the rows with null values taht may occur due to dissimilar index values ."
   ]
  },
  {
   "cell_type": "code",
   "execution_count": 17,
   "metadata": {},
   "outputs": [
    {
     "data": {
      "text/html": [
       "<div>\n",
       "<style scoped>\n",
       "    .dataframe tbody tr th:only-of-type {\n",
       "        vertical-align: middle;\n",
       "    }\n",
       "\n",
       "    .dataframe tbody tr th {\n",
       "        vertical-align: top;\n",
       "    }\n",
       "\n",
       "    .dataframe thead th {\n",
       "        text-align: right;\n",
       "    }\n",
       "</style>\n",
       "<table border=\"1\" class=\"dataframe\">\n",
       "  <thead>\n",
       "    <tr style=\"text-align: right;\">\n",
       "      <th></th>\n",
       "      <th>Open</th>\n",
       "      <th>High</th>\n",
       "      <th>Low</th>\n",
       "      <th>Close</th>\n",
       "      <th>Adj Close</th>\n",
       "      <th>Volume</th>\n",
       "      <th>headline_text</th>\n",
       "    </tr>\n",
       "  </thead>\n",
       "  <tbody>\n",
       "    <tr>\n",
       "      <th>2019-12-17</th>\n",
       "      <td>41052.359375</td>\n",
       "      <td>41401.648438</td>\n",
       "      <td>41005.179688</td>\n",
       "      <td>41352.171875</td>\n",
       "      <td>41352.171875</td>\n",
       "      <td>19000.0</td>\n",
       "      <td>After Jagannath Temple; Puri beach devpt plan ...</td>\n",
       "    </tr>\n",
       "    <tr>\n",
       "      <th>2019-12-18</th>\n",
       "      <td>41442.750000</td>\n",
       "      <td>41614.769531</td>\n",
       "      <td>41358.468750</td>\n",
       "      <td>41558.570313</td>\n",
       "      <td>41558.570313</td>\n",
       "      <td>24300.0</td>\n",
       "      <td>What is Citizenship (Amendment) Bill 2019: All...</td>\n",
       "    </tr>\n",
       "    <tr>\n",
       "      <th>2019-12-19</th>\n",
       "      <td>41571.820313</td>\n",
       "      <td>41719.289063</td>\n",
       "      <td>41456.398438</td>\n",
       "      <td>41673.921875</td>\n",
       "      <td>41673.921875</td>\n",
       "      <td>33300.0</td>\n",
       "      <td>Only 61% of CCA covered after revamp of canals...</td>\n",
       "    </tr>\n",
       "    <tr>\n",
       "      <th>2019-12-20</th>\n",
       "      <td>41746.199219</td>\n",
       "      <td>41809.960938</td>\n",
       "      <td>41636.109375</td>\n",
       "      <td>41681.539063</td>\n",
       "      <td>41681.539063</td>\n",
       "      <td>33600.0</td>\n",
       "      <td>I'm done playing the good girl; I want to be a...</td>\n",
       "    </tr>\n",
       "    <tr>\n",
       "      <th>2019-12-23</th>\n",
       "      <td>41548.261719</td>\n",
       "      <td>41701.621094</td>\n",
       "      <td>41474.609375</td>\n",
       "      <td>41642.660156</td>\n",
       "      <td>41642.660156</td>\n",
       "      <td>6200.0</td>\n",
       "      <td>Weekly Horoscope; December 22-28: Check predic...</td>\n",
       "    </tr>\n",
       "    <tr>\n",
       "      <th>2019-12-24</th>\n",
       "      <td>41684.511719</td>\n",
       "      <td>41702.980469</td>\n",
       "      <td>41423.070313</td>\n",
       "      <td>41461.261719</td>\n",
       "      <td>41461.261719</td>\n",
       "      <td>4400.0</td>\n",
       "      <td>Choker necklaces make for some sassy throwback...</td>\n",
       "    </tr>\n",
       "    <tr>\n",
       "      <th>2019-12-26</th>\n",
       "      <td>41543.800781</td>\n",
       "      <td>41543.800781</td>\n",
       "      <td>41132.890625</td>\n",
       "      <td>41163.761719</td>\n",
       "      <td>41163.761719</td>\n",
       "      <td>5600.0</td>\n",
       "      <td>NIT-T develops cold storage system for storing...</td>\n",
       "    </tr>\n",
       "    <tr>\n",
       "      <th>2019-12-27</th>\n",
       "      <td>41297.078125</td>\n",
       "      <td>41611.269531</td>\n",
       "      <td>41264.921875</td>\n",
       "      <td>41575.140625</td>\n",
       "      <td>41575.140625</td>\n",
       "      <td>6100.0</td>\n",
       "      <td>All schools in Naintial to be closed for two d...</td>\n",
       "    </tr>\n",
       "    <tr>\n",
       "      <th>2019-12-30</th>\n",
       "      <td>41686.269531</td>\n",
       "      <td>41714.730469</td>\n",
       "      <td>41453.378906</td>\n",
       "      <td>41558.000000</td>\n",
       "      <td>41558.000000</td>\n",
       "      <td>5700.0</td>\n",
       "      <td>Kareena Kapoor is holidaying in Switzerland an...</td>\n",
       "    </tr>\n",
       "    <tr>\n",
       "      <th>2019-12-31</th>\n",
       "      <td>41607.488281</td>\n",
       "      <td>41607.488281</td>\n",
       "      <td>41184.730469</td>\n",
       "      <td>41253.738281</td>\n",
       "      <td>41253.738281</td>\n",
       "      <td>5600.0</td>\n",
       "      <td>55 Sikhs booked for Shahidi Diwas marchEx-stud...</td>\n",
       "    </tr>\n",
       "  </tbody>\n",
       "</table>\n",
       "</div>"
      ],
      "text/plain": [
       "                    Open          High           Low         Close  \\\n",
       "2019-12-17  41052.359375  41401.648438  41005.179688  41352.171875   \n",
       "2019-12-18  41442.750000  41614.769531  41358.468750  41558.570313   \n",
       "2019-12-19  41571.820313  41719.289063  41456.398438  41673.921875   \n",
       "2019-12-20  41746.199219  41809.960938  41636.109375  41681.539063   \n",
       "2019-12-23  41548.261719  41701.621094  41474.609375  41642.660156   \n",
       "2019-12-24  41684.511719  41702.980469  41423.070313  41461.261719   \n",
       "2019-12-26  41543.800781  41543.800781  41132.890625  41163.761719   \n",
       "2019-12-27  41297.078125  41611.269531  41264.921875  41575.140625   \n",
       "2019-12-30  41686.269531  41714.730469  41453.378906  41558.000000   \n",
       "2019-12-31  41607.488281  41607.488281  41184.730469  41253.738281   \n",
       "\n",
       "               Adj Close   Volume  \\\n",
       "2019-12-17  41352.171875  19000.0   \n",
       "2019-12-18  41558.570313  24300.0   \n",
       "2019-12-19  41673.921875  33300.0   \n",
       "2019-12-20  41681.539063  33600.0   \n",
       "2019-12-23  41642.660156   6200.0   \n",
       "2019-12-24  41461.261719   4400.0   \n",
       "2019-12-26  41163.761719   5600.0   \n",
       "2019-12-27  41575.140625   6100.0   \n",
       "2019-12-30  41558.000000   5700.0   \n",
       "2019-12-31  41253.738281   5600.0   \n",
       "\n",
       "                                                headline_text  \n",
       "2019-12-17  After Jagannath Temple; Puri beach devpt plan ...  \n",
       "2019-12-18  What is Citizenship (Amendment) Bill 2019: All...  \n",
       "2019-12-19  Only 61% of CCA covered after revamp of canals...  \n",
       "2019-12-20  I'm done playing the good girl; I want to be a...  \n",
       "2019-12-23  Weekly Horoscope; December 22-28: Check predic...  \n",
       "2019-12-24  Choker necklaces make for some sassy throwback...  \n",
       "2019-12-26  NIT-T develops cold storage system for storing...  \n",
       "2019-12-27  All schools in Naintial to be closed for two d...  \n",
       "2019-12-30  Kareena Kapoor is holidaying in Switzerland an...  \n",
       "2019-12-31  55 Sikhs booked for Shahidi Diwas marchEx-stud...  "
      ]
     },
     "execution_count": 17,
     "metadata": {},
     "output_type": "execute_result"
    }
   ],
   "source": [
    "df = pd.concat([stock_price,headlines],axis=1)\n",
    "df.dropna(axis=0,inplace=True)\n",
    "df.head(10)"
   ]
  },
  {
   "cell_type": "markdown",
   "metadata": {},
   "source": [
    "#### Pre-requisite : We need 'vader_lexicon' package for SentimentIntensityAnalyzer\n",
    "\n",
    "### Detecting the compound sentiment of the headline_texts and saving the value in 'compound' column of 'df' :"
   ]
  },
  {
   "cell_type": "code",
   "execution_count": 18,
   "metadata": {},
   "outputs": [
    {
     "data": {
      "text/html": [
       "<div>\n",
       "<style scoped>\n",
       "    .dataframe tbody tr th:only-of-type {\n",
       "        vertical-align: middle;\n",
       "    }\n",
       "\n",
       "    .dataframe tbody tr th {\n",
       "        vertical-align: top;\n",
       "    }\n",
       "\n",
       "    .dataframe thead th {\n",
       "        text-align: right;\n",
       "    }\n",
       "</style>\n",
       "<table border=\"1\" class=\"dataframe\">\n",
       "  <thead>\n",
       "    <tr style=\"text-align: right;\">\n",
       "      <th></th>\n",
       "      <th>Open</th>\n",
       "      <th>High</th>\n",
       "      <th>Low</th>\n",
       "      <th>Close</th>\n",
       "      <th>Adj Close</th>\n",
       "      <th>Volume</th>\n",
       "      <th>headline_text</th>\n",
       "      <th>compound</th>\n",
       "    </tr>\n",
       "  </thead>\n",
       "  <tbody>\n",
       "    <tr>\n",
       "      <th>2019-12-17</th>\n",
       "      <td>41052.359375</td>\n",
       "      <td>41401.648438</td>\n",
       "      <td>41005.179688</td>\n",
       "      <td>41352.171875</td>\n",
       "      <td>41352.171875</td>\n",
       "      <td>19000.0</td>\n",
       "      <td>After Jagannath Temple; Puri beach devpt plan ...</td>\n",
       "      <td>-1.0000</td>\n",
       "    </tr>\n",
       "    <tr>\n",
       "      <th>2019-12-18</th>\n",
       "      <td>41442.750000</td>\n",
       "      <td>41614.769531</td>\n",
       "      <td>41358.468750</td>\n",
       "      <td>41558.570313</td>\n",
       "      <td>41558.570313</td>\n",
       "      <td>24300.0</td>\n",
       "      <td>What is Citizenship (Amendment) Bill 2019: All...</td>\n",
       "      <td>-0.9999</td>\n",
       "    </tr>\n",
       "    <tr>\n",
       "      <th>2019-12-19</th>\n",
       "      <td>41571.820313</td>\n",
       "      <td>41719.289063</td>\n",
       "      <td>41456.398438</td>\n",
       "      <td>41673.921875</td>\n",
       "      <td>41673.921875</td>\n",
       "      <td>33300.0</td>\n",
       "      <td>Only 61% of CCA covered after revamp of canals...</td>\n",
       "      <td>-0.9997</td>\n",
       "    </tr>\n",
       "    <tr>\n",
       "      <th>2019-12-20</th>\n",
       "      <td>41746.199219</td>\n",
       "      <td>41809.960938</td>\n",
       "      <td>41636.109375</td>\n",
       "      <td>41681.539063</td>\n",
       "      <td>41681.539063</td>\n",
       "      <td>33600.0</td>\n",
       "      <td>I'm done playing the good girl; I want to be a...</td>\n",
       "      <td>-0.9999</td>\n",
       "    </tr>\n",
       "    <tr>\n",
       "      <th>2019-12-23</th>\n",
       "      <td>41548.261719</td>\n",
       "      <td>41701.621094</td>\n",
       "      <td>41474.609375</td>\n",
       "      <td>41642.660156</td>\n",
       "      <td>41642.660156</td>\n",
       "      <td>6200.0</td>\n",
       "      <td>Weekly Horoscope; December 22-28: Check predic...</td>\n",
       "      <td>-0.9997</td>\n",
       "    </tr>\n",
       "  </tbody>\n",
       "</table>\n",
       "</div>"
      ],
      "text/plain": [
       "                    Open          High           Low         Close  \\\n",
       "2019-12-17  41052.359375  41401.648438  41005.179688  41352.171875   \n",
       "2019-12-18  41442.750000  41614.769531  41358.468750  41558.570313   \n",
       "2019-12-19  41571.820313  41719.289063  41456.398438  41673.921875   \n",
       "2019-12-20  41746.199219  41809.960938  41636.109375  41681.539063   \n",
       "2019-12-23  41548.261719  41701.621094  41474.609375  41642.660156   \n",
       "\n",
       "               Adj Close   Volume  \\\n",
       "2019-12-17  41352.171875  19000.0   \n",
       "2019-12-18  41558.570313  24300.0   \n",
       "2019-12-19  41673.921875  33300.0   \n",
       "2019-12-20  41681.539063  33600.0   \n",
       "2019-12-23  41642.660156   6200.0   \n",
       "\n",
       "                                                headline_text  compound  \n",
       "2019-12-17  After Jagannath Temple; Puri beach devpt plan ...   -1.0000  \n",
       "2019-12-18  What is Citizenship (Amendment) Bill 2019: All...   -0.9999  \n",
       "2019-12-19  Only 61% of CCA covered after revamp of canals...   -0.9997  \n",
       "2019-12-20  I'm done playing the good girl; I want to be a...   -0.9999  \n",
       "2019-12-23  Weekly Horoscope; December 22-28: Check predic...   -0.9997  "
      ]
     },
     "execution_count": 18,
     "metadata": {},
     "output_type": "execute_result"
    }
   ],
   "source": [
    "\n",
    "sid = SentimentIntensityAnalyzer()\n",
    "\n",
    "df['compound'] = df['headline_text'].apply(lambda x : sid.polarity_scores(x)['compound'])\n",
    "df.head(5)"
   ]
  },
  {
   "cell_type": "markdown",
   "metadata": {},
   "source": [
    "#### Checking for null values if any :"
   ]
  },
  {
   "cell_type": "code",
   "execution_count": 19,
   "metadata": {},
   "outputs": [
    {
     "data": {
      "text/plain": [
       "Open             0\n",
       "High             0\n",
       "Low              0\n",
       "Close            0\n",
       "Adj Close        0\n",
       "Volume           0\n",
       "headline_text    0\n",
       "compound         0\n",
       "dtype: int64"
      ]
     },
     "execution_count": 19,
     "metadata": {},
     "output_type": "execute_result"
    }
   ],
   "source": [
    "df.isnull().sum()"
   ]
  },
  {
   "cell_type": "markdown",
   "metadata": {},
   "source": [
    "### EDA of the dataset :"
   ]
  },
  {
   "cell_type": "code",
   "execution_count": 20,
   "metadata": {},
   "outputs": [
    {
     "data": {
      "text/html": [
       "<div>\n",
       "<style scoped>\n",
       "    .dataframe tbody tr th:only-of-type {\n",
       "        vertical-align: middle;\n",
       "    }\n",
       "\n",
       "    .dataframe tbody tr th {\n",
       "        vertical-align: top;\n",
       "    }\n",
       "\n",
       "    .dataframe thead th {\n",
       "        text-align: right;\n",
       "    }\n",
       "</style>\n",
       "<table border=\"1\" class=\"dataframe\">\n",
       "  <thead>\n",
       "    <tr style=\"text-align: right;\">\n",
       "      <th></th>\n",
       "      <th>Open</th>\n",
       "      <th>High</th>\n",
       "      <th>Low</th>\n",
       "      <th>Close</th>\n",
       "      <th>Adj Close</th>\n",
       "      <th>Volume</th>\n",
       "      <th>compound</th>\n",
       "    </tr>\n",
       "  </thead>\n",
       "  <tbody>\n",
       "    <tr>\n",
       "      <th>count</th>\n",
       "      <td>250.000000</td>\n",
       "      <td>250.000000</td>\n",
       "      <td>250.000000</td>\n",
       "      <td>250.000000</td>\n",
       "      <td>250.000000</td>\n",
       "      <td>250.000000</td>\n",
       "      <td>250.000000</td>\n",
       "    </tr>\n",
       "    <tr>\n",
       "      <th>mean</th>\n",
       "      <td>37804.237375</td>\n",
       "      <td>38071.182859</td>\n",
       "      <td>37422.826992</td>\n",
       "      <td>37745.454117</td>\n",
       "      <td>37745.454117</td>\n",
       "      <td>19134.000000</td>\n",
       "      <td>-0.991419</td>\n",
       "    </tr>\n",
       "    <tr>\n",
       "      <th>std</th>\n",
       "      <td>4507.985769</td>\n",
       "      <td>4380.974060</td>\n",
       "      <td>4647.212947</td>\n",
       "      <td>4535.304336</td>\n",
       "      <td>4535.304336</td>\n",
       "      <td>16540.261333</td>\n",
       "      <td>0.126305</td>\n",
       "    </tr>\n",
       "    <tr>\n",
       "      <th>min</th>\n",
       "      <td>26499.810547</td>\n",
       "      <td>27462.869141</td>\n",
       "      <td>25638.900391</td>\n",
       "      <td>25981.240234</td>\n",
       "      <td>25981.240234</td>\n",
       "      <td>0.000000</td>\n",
       "      <td>-1.000000</td>\n",
       "    </tr>\n",
       "    <tr>\n",
       "      <th>25%</th>\n",
       "      <td>34369.659179</td>\n",
       "      <td>34779.932618</td>\n",
       "      <td>33975.389648</td>\n",
       "      <td>34257.097656</td>\n",
       "      <td>34257.097656</td>\n",
       "      <td>13125.000000</td>\n",
       "      <td>-0.999900</td>\n",
       "    </tr>\n",
       "    <tr>\n",
       "      <th>50%</th>\n",
       "      <td>38489.480469</td>\n",
       "      <td>38750.359375</td>\n",
       "      <td>38234.869140</td>\n",
       "      <td>38425.974610</td>\n",
       "      <td>38425.974610</td>\n",
       "      <td>17000.000000</td>\n",
       "      <td>-0.999700</td>\n",
       "    </tr>\n",
       "    <tr>\n",
       "      <th>75%</th>\n",
       "      <td>41179.222656</td>\n",
       "      <td>41376.482422</td>\n",
       "      <td>41023.923828</td>\n",
       "      <td>41135.233399</td>\n",
       "      <td>41135.233399</td>\n",
       "      <td>21075.000000</td>\n",
       "      <td>-0.999500</td>\n",
       "    </tr>\n",
       "    <tr>\n",
       "      <th>max</th>\n",
       "      <td>46774.320313</td>\n",
       "      <td>46992.570313</td>\n",
       "      <td>46627.601563</td>\n",
       "      <td>46890.339844</td>\n",
       "      <td>46890.339844</td>\n",
       "      <td>188300.000000</td>\n",
       "      <td>0.997400</td>\n",
       "    </tr>\n",
       "  </tbody>\n",
       "</table>\n",
       "</div>"
      ],
      "text/plain": [
       "               Open          High           Low         Close     Adj Close  \\\n",
       "count    250.000000    250.000000    250.000000    250.000000    250.000000   \n",
       "mean   37804.237375  38071.182859  37422.826992  37745.454117  37745.454117   \n",
       "std     4507.985769   4380.974060   4647.212947   4535.304336   4535.304336   \n",
       "min    26499.810547  27462.869141  25638.900391  25981.240234  25981.240234   \n",
       "25%    34369.659179  34779.932618  33975.389648  34257.097656  34257.097656   \n",
       "50%    38489.480469  38750.359375  38234.869140  38425.974610  38425.974610   \n",
       "75%    41179.222656  41376.482422  41023.923828  41135.233399  41135.233399   \n",
       "max    46774.320313  46992.570313  46627.601563  46890.339844  46890.339844   \n",
       "\n",
       "              Volume    compound  \n",
       "count     250.000000  250.000000  \n",
       "mean    19134.000000   -0.991419  \n",
       "std     16540.261333    0.126305  \n",
       "min         0.000000   -1.000000  \n",
       "25%     13125.000000   -0.999900  \n",
       "50%     17000.000000   -0.999700  \n",
       "75%     21075.000000   -0.999500  \n",
       "max    188300.000000    0.997400  "
      ]
     },
     "execution_count": 20,
     "metadata": {},
     "output_type": "execute_result"
    }
   ],
   "source": [
    "df.describe()"
   ]
  },
  {
   "cell_type": "code",
   "execution_count": 21,
   "metadata": {},
   "outputs": [
    {
     "name": "stdout",
     "output_type": "stream",
     "text": [
      "<class 'pandas.core.frame.DataFrame'>\n",
      "DatetimeIndex: 250 entries, 2019-12-17 to 2020-12-17\n",
      "Data columns (total 8 columns):\n",
      " #   Column         Non-Null Count  Dtype  \n",
      "---  ------         --------------  -----  \n",
      " 0   Open           250 non-null    float64\n",
      " 1   High           250 non-null    float64\n",
      " 2   Low            250 non-null    float64\n",
      " 3   Close          250 non-null    float64\n",
      " 4   Adj Close      250 non-null    float64\n",
      " 5   Volume         250 non-null    float64\n",
      " 6   headline_text  250 non-null    object \n",
      " 7   compound       250 non-null    float64\n",
      "dtypes: float64(7), object(1)\n",
      "memory usage: 17.6+ KB\n"
     ]
    }
   ],
   "source": [
    "df.info()"
   ]
  },
  {
   "cell_type": "markdown",
   "metadata": {},
   "source": [
    "#### Plotting the close price for every date of the dataframe df :"
   ]
  },
  {
   "cell_type": "code",
   "execution_count": 22,
   "metadata": {},
   "outputs": [
    {
     "data": {
      "image/png": "[encoded data removed]",
      "text/plain": [
       "<Figure size 432x288 with 1 Axes>"
      ]
     },
     "metadata": {
      "needs_background": "light"
     },
     "output_type": "display_data"
    }
   ],
   "source": [
    "df['Close'].plot()\n",
    "plt.title('Close Price')\n",
    "plt.xlabel('Date')\n",
    "plt.ylabel('Close Price')\n",
    "plt.show()"
   ]
  },
  {
   "cell_type": "markdown",
   "metadata": {},
   "source": [
    "#### Shifting the index by 7 rows with the mean value to see the change in plot for the close price in this condition :"
   ]
  },
  {
   "cell_type": "markdown",
   "metadata": {},
   "source": [
    "The NaN values are just for visualization purpose to see the rigidness of stock_price on a week gap."
   ]
  },
  {
   "cell_type": "code",
   "execution_count": 23,
   "metadata": {},
   "outputs": [
    {
     "data": {
      "text/html": [
       "<div>\n",
       "<style scoped>\n",
       "    .dataframe tbody tr th:only-of-type {\n",
       "        vertical-align: middle;\n",
       "    }\n",
       "\n",
       "    .dataframe tbody tr th {\n",
       "        vertical-align: top;\n",
       "    }\n",
       "\n",
       "    .dataframe thead th {\n",
       "        text-align: right;\n",
       "    }\n",
       "</style>\n",
       "<table border=\"1\" class=\"dataframe\">\n",
       "  <thead>\n",
       "    <tr style=\"text-align: right;\">\n",
       "      <th></th>\n",
       "      <th>Open</th>\n",
       "      <th>High</th>\n",
       "      <th>Low</th>\n",
       "      <th>Close</th>\n",
       "      <th>Adj Close</th>\n",
       "      <th>Volume</th>\n",
       "      <th>compound</th>\n",
       "    </tr>\n",
       "  </thead>\n",
       "  <tbody>\n",
       "    <tr>\n",
       "      <th>2019-12-17</th>\n",
       "      <td>NaN</td>\n",
       "      <td>NaN</td>\n",
       "      <td>NaN</td>\n",
       "      <td>NaN</td>\n",
       "      <td>NaN</td>\n",
       "      <td>NaN</td>\n",
       "      <td>NaN</td>\n",
       "    </tr>\n",
       "    <tr>\n",
       "      <th>2019-12-18</th>\n",
       "      <td>NaN</td>\n",
       "      <td>NaN</td>\n",
       "      <td>NaN</td>\n",
       "      <td>NaN</td>\n",
       "      <td>NaN</td>\n",
       "      <td>NaN</td>\n",
       "      <td>NaN</td>\n",
       "    </tr>\n",
       "    <tr>\n",
       "      <th>2019-12-19</th>\n",
       "      <td>NaN</td>\n",
       "      <td>NaN</td>\n",
       "      <td>NaN</td>\n",
       "      <td>NaN</td>\n",
       "      <td>NaN</td>\n",
       "      <td>NaN</td>\n",
       "      <td>NaN</td>\n",
       "    </tr>\n",
       "    <tr>\n",
       "      <th>2019-12-20</th>\n",
       "      <td>NaN</td>\n",
       "      <td>NaN</td>\n",
       "      <td>NaN</td>\n",
       "      <td>NaN</td>\n",
       "      <td>NaN</td>\n",
       "      <td>NaN</td>\n",
       "      <td>NaN</td>\n",
       "    </tr>\n",
       "    <tr>\n",
       "      <th>2019-12-23</th>\n",
       "      <td>NaN</td>\n",
       "      <td>NaN</td>\n",
       "      <td>NaN</td>\n",
       "      <td>NaN</td>\n",
       "      <td>NaN</td>\n",
       "      <td>NaN</td>\n",
       "      <td>NaN</td>\n",
       "    </tr>\n",
       "    <tr>\n",
       "      <th>2019-12-24</th>\n",
       "      <td>NaN</td>\n",
       "      <td>NaN</td>\n",
       "      <td>NaN</td>\n",
       "      <td>NaN</td>\n",
       "      <td>NaN</td>\n",
       "      <td>NaN</td>\n",
       "      <td>NaN</td>\n",
       "    </tr>\n",
       "    <tr>\n",
       "      <th>2019-12-26</th>\n",
       "      <td>41512.814732</td>\n",
       "      <td>41642.010045</td>\n",
       "      <td>41355.246652</td>\n",
       "      <td>41504.840960</td>\n",
       "      <td>41504.840960</td>\n",
       "      <td>18057.142857</td>\n",
       "      <td>-0.999857</td>\n",
       "    </tr>\n",
       "    <tr>\n",
       "      <th>2019-12-27</th>\n",
       "      <td>41547.774554</td>\n",
       "      <td>41671.955915</td>\n",
       "      <td>41392.352679</td>\n",
       "      <td>41536.693639</td>\n",
       "      <td>41536.693639</td>\n",
       "      <td>16214.285714</td>\n",
       "      <td>-0.999843</td>\n",
       "    </tr>\n",
       "    <tr>\n",
       "      <th>2019-12-30</th>\n",
       "      <td>41582.563058</td>\n",
       "      <td>41686.236049</td>\n",
       "      <td>41405.911272</td>\n",
       "      <td>41536.612165</td>\n",
       "      <td>41536.612165</td>\n",
       "      <td>13557.142857</td>\n",
       "      <td>-0.999843</td>\n",
       "    </tr>\n",
       "    <tr>\n",
       "      <th>2019-12-31</th>\n",
       "      <td>41587.658482</td>\n",
       "      <td>41670.264509</td>\n",
       "      <td>41367.101563</td>\n",
       "      <td>41476.585938</td>\n",
       "      <td>41476.585938</td>\n",
       "      <td>9600.000000</td>\n",
       "      <td>-0.999871</td>\n",
       "    </tr>\n",
       "    <tr>\n",
       "      <th>2020-01-02</th>\n",
       "      <td>41529.668527</td>\n",
       "      <td>41647.311384</td>\n",
       "      <td>41323.150112</td>\n",
       "      <td>41468.743304</td>\n",
       "      <td>41468.743304</td>\n",
       "      <td>5557.142857</td>\n",
       "      <td>-0.999843</td>\n",
       "    </tr>\n",
       "    <tr>\n",
       "      <th>2020-01-03</th>\n",
       "      <td>41541.989955</td>\n",
       "      <td>41637.962612</td>\n",
       "      <td>41305.160156</td>\n",
       "      <td>41443.307478</td>\n",
       "      <td>41443.307478</td>\n",
       "      <td>5942.857143</td>\n",
       "      <td>-0.999357</td>\n",
       "    </tr>\n",
       "    <tr>\n",
       "      <th>2020-01-06</th>\n",
       "      <td>41498.251116</td>\n",
       "      <td>41591.585380</td>\n",
       "      <td>41189.573103</td>\n",
       "      <td>41331.217076</td>\n",
       "      <td>41331.217076</td>\n",
       "      <td>6557.142857</td>\n",
       "      <td>-0.999314</td>\n",
       "    </tr>\n",
       "    <tr>\n",
       "      <th>2020-01-07</th>\n",
       "      <td>41418.142299</td>\n",
       "      <td>41546.776786</td>\n",
       "      <td>41131.641741</td>\n",
       "      <td>41289.175223</td>\n",
       "      <td>41289.175223</td>\n",
       "      <td>7457.142857</td>\n",
       "      <td>-0.999329</td>\n",
       "    </tr>\n",
       "    <tr>\n",
       "      <th>2020-01-08</th>\n",
       "      <td>41314.963728</td>\n",
       "      <td>41440.361049</td>\n",
       "      <td>41019.017299</td>\n",
       "      <td>41180.974888</td>\n",
       "      <td>41180.974888</td>\n",
       "      <td>9185.714286</td>\n",
       "      <td>-0.999329</td>\n",
       "    </tr>\n",
       "    <tr>\n",
       "      <th>2020-01-09</th>\n",
       "      <td>41247.878348</td>\n",
       "      <td>41407.131139</td>\n",
       "      <td>40979.351563</td>\n",
       "      <td>41165.882254</td>\n",
       "      <td>41165.882254</td>\n",
       "      <td>9485.714286</td>\n",
       "      <td>-0.999300</td>\n",
       "    </tr>\n",
       "    <tr>\n",
       "      <th>2020-01-10</th>\n",
       "      <td>41242.265625</td>\n",
       "      <td>41431.077009</td>\n",
       "      <td>41016.933036</td>\n",
       "      <td>41215.308036</td>\n",
       "      <td>41215.308036</td>\n",
       "      <td>10571.428571</td>\n",
       "      <td>-0.999300</td>\n",
       "    </tr>\n",
       "    <tr>\n",
       "      <th>2020-01-13</th>\n",
       "      <td>41306.257255</td>\n",
       "      <td>41466.839844</td>\n",
       "      <td>41072.977679</td>\n",
       "      <td>41248.601004</td>\n",
       "      <td>41248.601004</td>\n",
       "      <td>11328.571429</td>\n",
       "      <td>-0.999314</td>\n",
       "    </tr>\n",
       "    <tr>\n",
       "      <th>2020-01-14</th>\n",
       "      <td>41341.768415</td>\n",
       "      <td>41517.994420</td>\n",
       "      <td>41133.294643</td>\n",
       "      <td>41318.318080</td>\n",
       "      <td>41318.318080</td>\n",
       "      <td>12071.428571</td>\n",
       "      <td>-0.999829</td>\n",
       "    </tr>\n",
       "    <tr>\n",
       "      <th>2020-01-15</th>\n",
       "      <td>41426.271206</td>\n",
       "      <td>41602.497210</td>\n",
       "      <td>41281.030134</td>\n",
       "      <td>41489.189732</td>\n",
       "      <td>41489.189732</td>\n",
       "      <td>11700.000000</td>\n",
       "      <td>-0.999857</td>\n",
       "    </tr>\n",
       "  </tbody>\n",
       "</table>\n",
       "</div>"
      ],
      "text/plain": [
       "                    Open          High           Low         Close  \\\n",
       "2019-12-17           NaN           NaN           NaN           NaN   \n",
       "2019-12-18           NaN           NaN           NaN           NaN   \n",
       "2019-12-19           NaN           NaN           NaN           NaN   \n",
       "2019-12-20           NaN           NaN           NaN           NaN   \n",
       "2019-12-23           NaN           NaN           NaN           NaN   \n",
       "2019-12-24           NaN           NaN           NaN           NaN   \n",
       "2019-12-26  41512.814732  41642.010045  41355.246652  41504.840960   \n",
       "2019-12-27  41547.774554  41671.955915  41392.352679  41536.693639   \n",
       "2019-12-30  41582.563058  41686.236049  41405.911272  41536.612165   \n",
       "2019-12-31  41587.658482  41670.264509  41367.101563  41476.585938   \n",
       "2020-01-02  41529.668527  41647.311384  41323.150112  41468.743304   \n",
       "2020-01-03  41541.989955  41637.962612  41305.160156  41443.307478   \n",
       "2020-01-06  41498.251116  41591.585380  41189.573103  41331.217076   \n",
       "2020-01-07  41418.142299  41546.776786  41131.641741  41289.175223   \n",
       "2020-01-08  41314.963728  41440.361049  41019.017299  41180.974888   \n",
       "2020-01-09  41247.878348  41407.131139  40979.351563  41165.882254   \n",
       "2020-01-10  41242.265625  41431.077009  41016.933036  41215.308036   \n",
       "2020-01-13  41306.257255  41466.839844  41072.977679  41248.601004   \n",
       "2020-01-14  41341.768415  41517.994420  41133.294643  41318.318080   \n",
       "2020-01-15  41426.271206  41602.497210  41281.030134  41489.189732   \n",
       "\n",
       "               Adj Close        Volume  compound  \n",
       "2019-12-17           NaN           NaN       NaN  \n",
       "2019-12-18           NaN           NaN       NaN  \n",
       "2019-12-19           NaN           NaN       NaN  \n",
       "2019-12-20           NaN           NaN       NaN  \n",
       "2019-12-23           NaN           NaN       NaN  \n",
       "2019-12-24           NaN           NaN       NaN  \n",
       "2019-12-26  41504.840960  18057.142857 -0.999857  \n",
       "2019-12-27  41536.693639  16214.285714 -0.999843  \n",
       "2019-12-30  41536.612165  13557.142857 -0.999843  \n",
       "2019-12-31  41476.585938   9600.000000 -0.999871  \n",
       "2020-01-02  41468.743304   5557.142857 -0.999843  \n",
       "2020-01-03  41443.307478   5942.857143 -0.999357  \n",
       "2020-01-06  41331.217076   6557.142857 -0.999314  \n",
       "2020-01-07  41289.175223   7457.142857 -0.999329  \n",
       "2020-01-08  41180.974888   9185.714286 -0.999329  \n",
       "2020-01-09  41165.882254   9485.714286 -0.999300  \n",
       "2020-01-10  41215.308036  10571.428571 -0.999300  \n",
       "2020-01-13  41248.601004  11328.571429 -0.999314  \n",
       "2020-01-14  41318.318080  12071.428571 -0.999829  \n",
       "2020-01-15  41489.189732  11700.000000 -0.999857  "
      ]
     },
     "execution_count": 23,
     "metadata": {},
     "output_type": "execute_result"
    }
   ],
   "source": [
    "df.rolling(7).mean().head(20)"
   ]
  },
  {
   "cell_type": "code",
   "execution_count": 24,
   "metadata": {},
   "outputs": [
    {
     "data": {
      "image/png": "[encoded data removed]",
      "text/plain": [
       "<Figure size 432x288 with 1 Axes>"
      ]
     },
     "metadata": {
      "needs_background": "light"
     },
     "output_type": "display_data"
    }
   ],
   "source": [
    "df['Close'].plot()\n",
    "df.rolling(window=30).mean()['Close'].plot()\n",
    "plt.title('Close Price')\n",
    "plt.xlabel('Date')\n",
    "plt.ylabel('Close Price')\n",
    "plt.show()"
   ]
  },
  {
   "cell_type": "markdown",
   "metadata": {},
   "source": [
    "## Creating the required part for Train set and Test set :"
   ]
  },
  {
   "cell_type": "markdown",
   "metadata": {},
   "source": [
    "#### We are going to make a model to predict stock price for the next day after an observation."
   ]
  },
  {
   "cell_type": "code",
   "execution_count": 25,
   "metadata": {},
   "outputs": [
    {
     "name": "stdout",
     "output_type": "stream",
     "text": [
      "Length of Training Set is  199\n",
      "Length of Testing Set is  51\n"
     ]
    }
   ],
   "source": [
    "use_data_size = len(df) - 1\n",
    "train_data_size = int(0.8 * use_data_size)\n",
    "total_data_size = len(df)\n",
    "start_point = total_data_size - use_data_size\n",
    "print(\"Length of Training Set is \",train_data_size)\n",
    "print('Length of Testing Set is ', total_data_size - train_data_size)"
   ]
  },
  {
   "cell_type": "markdown",
   "metadata": {},
   "source": [
    "#### Separating the columns for to make the required dataframe later :"
   ]
  },
  {
   "cell_type": "code",
   "execution_count": 26,
   "metadata": {},
   "outputs": [],
   "source": [
    "close_price = df.iloc[start_point:total_data_size,3]\n",
    "compound = df.iloc[start_point:total_data_size,7]\n",
    "open_price = df.iloc[start_point:total_data_size,0]\n",
    "high = df.iloc[start_point:total_data_size,1]\n",
    "low = df.iloc[start_point:total_data_size,2]\n",
    "volume = df.iloc[start_point:total_data_size,5]"
   ]
  },
  {
   "cell_type": "markdown",
   "metadata": {},
   "source": [
    "#### As we are going to predict the value for each succeeding day, so we need to shift the close_price as well as compound Series from dataframes to the next day :"
   ]
  },
  {
   "cell_type": "code",
   "execution_count": 27,
   "metadata": {},
   "outputs": [],
   "source": [
    "close_price_shifted = close_price.shift(-1)\n",
    "compound_shifted = compound.shift(-1)"
   ]
  },
  {
   "cell_type": "markdown",
   "metadata": {},
   "source": [
    "#### Concatenating all the Series to form the required dataframe for our model  :"
   ]
  },
  {
   "cell_type": "code",
   "execution_count": 28,
   "metadata": {},
   "outputs": [],
   "source": [
    "stock_price_data = pd.DataFrame({\n",
    "    'close':close_price,\n",
    "    'close_price_shifted':close_price_shifted,\n",
    "    'compound':compound,\n",
    "    'compound_shifted':compound_shifted,\n",
    "    'open':open_price,\n",
    "    'high':high,\n",
    "    'low':low,\n",
    "    'volume':volume\n",
    "                                })"
   ]
  },
  {
   "cell_type": "code",
   "execution_count": 29,
   "metadata": {},
   "outputs": [
    {
     "data": {
      "text/html": [
       "<div>\n",
       "<style scoped>\n",
       "    .dataframe tbody tr th:only-of-type {\n",
       "        vertical-align: middle;\n",
       "    }\n",
       "\n",
       "    .dataframe tbody tr th {\n",
       "        vertical-align: top;\n",
       "    }\n",
       "\n",
       "    .dataframe thead th {\n",
       "        text-align: right;\n",
       "    }\n",
       "</style>\n",
       "<table border=\"1\" class=\"dataframe\">\n",
       "  <thead>\n",
       "    <tr style=\"text-align: right;\">\n",
       "      <th></th>\n",
       "      <th>close</th>\n",
       "      <th>close_price_shifted</th>\n",
       "      <th>compound</th>\n",
       "      <th>compound_shifted</th>\n",
       "      <th>open</th>\n",
       "      <th>high</th>\n",
       "      <th>low</th>\n",
       "      <th>volume</th>\n",
       "    </tr>\n",
       "  </thead>\n",
       "  <tbody>\n",
       "    <tr>\n",
       "      <th>2019-12-18</th>\n",
       "      <td>41558.570313</td>\n",
       "      <td>41673.921875</td>\n",
       "      <td>-0.9999</td>\n",
       "      <td>-0.9997</td>\n",
       "      <td>41442.750000</td>\n",
       "      <td>41614.769531</td>\n",
       "      <td>41358.468750</td>\n",
       "      <td>24300.0</td>\n",
       "    </tr>\n",
       "    <tr>\n",
       "      <th>2019-12-19</th>\n",
       "      <td>41673.921875</td>\n",
       "      <td>41681.539063</td>\n",
       "      <td>-0.9997</td>\n",
       "      <td>-0.9999</td>\n",
       "      <td>41571.820313</td>\n",
       "      <td>41719.289063</td>\n",
       "      <td>41456.398438</td>\n",
       "      <td>33300.0</td>\n",
       "    </tr>\n",
       "    <tr>\n",
       "      <th>2019-12-20</th>\n",
       "      <td>41681.539063</td>\n",
       "      <td>41642.660156</td>\n",
       "      <td>-0.9999</td>\n",
       "      <td>-0.9997</td>\n",
       "      <td>41746.199219</td>\n",
       "      <td>41809.960938</td>\n",
       "      <td>41636.109375</td>\n",
       "      <td>33600.0</td>\n",
       "    </tr>\n",
       "    <tr>\n",
       "      <th>2019-12-23</th>\n",
       "      <td>41642.660156</td>\n",
       "      <td>41461.261719</td>\n",
       "      <td>-0.9997</td>\n",
       "      <td>-0.9999</td>\n",
       "      <td>41548.261719</td>\n",
       "      <td>41701.621094</td>\n",
       "      <td>41474.609375</td>\n",
       "      <td>6200.0</td>\n",
       "    </tr>\n",
       "    <tr>\n",
       "      <th>2019-12-24</th>\n",
       "      <td>41461.261719</td>\n",
       "      <td>41163.761719</td>\n",
       "      <td>-0.9999</td>\n",
       "      <td>-0.9999</td>\n",
       "      <td>41684.511719</td>\n",
       "      <td>41702.980469</td>\n",
       "      <td>41423.070313</td>\n",
       "      <td>4400.0</td>\n",
       "    </tr>\n",
       "  </tbody>\n",
       "</table>\n",
       "</div>"
      ],
      "text/plain": [
       "                   close  close_price_shifted  compound  compound_shifted  \\\n",
       "2019-12-18  41558.570313         41673.921875   -0.9999           -0.9997   \n",
       "2019-12-19  41673.921875         41681.539063   -0.9997           -0.9999   \n",
       "2019-12-20  41681.539063         41642.660156   -0.9999           -0.9997   \n",
       "2019-12-23  41642.660156         41461.261719   -0.9997           -0.9999   \n",
       "2019-12-24  41461.261719         41163.761719   -0.9999           -0.9999   \n",
       "\n",
       "                    open          high           low   volume  \n",
       "2019-12-18  41442.750000  41614.769531  41358.468750  24300.0  \n",
       "2019-12-19  41571.820313  41719.289063  41456.398438  33300.0  \n",
       "2019-12-20  41746.199219  41809.960938  41636.109375  33600.0  \n",
       "2019-12-23  41548.261719  41701.621094  41474.609375   6200.0  \n",
       "2019-12-24  41684.511719  41702.980469  41423.070313   4400.0  "
      ]
     },
     "execution_count": 29,
     "metadata": {},
     "output_type": "execute_result"
    }
   ],
   "source": [
    "stock_price_data.head()"
   ]
  },
  {
   "cell_type": "markdown",
   "metadata": {},
   "source": [
    "#### Checking for null values in stock_price_data dataframe and dropping the respective rows (if any) :"
   ]
  },
  {
   "cell_type": "code",
   "execution_count": 30,
   "metadata": {},
   "outputs": [
    {
     "data": {
      "text/plain": [
       "close                  0\n",
       "close_price_shifted    1\n",
       "compound               0\n",
       "compound_shifted       1\n",
       "open                   0\n",
       "high                   0\n",
       "low                    0\n",
       "volume                 0\n",
       "dtype: int64"
      ]
     },
     "execution_count": 30,
     "metadata": {},
     "output_type": "execute_result"
    }
   ],
   "source": [
    "stock_price_data.isnull().sum()"
   ]
  },
  {
   "cell_type": "code",
   "execution_count": 31,
   "metadata": {},
   "outputs": [],
   "source": [
    "stock_price_data.dropna(axis=0,inplace=True)"
   ]
  },
  {
   "cell_type": "markdown",
   "metadata": {},
   "source": [
    "#### Creating the output variable (here, teh close_price_shifted or close_price after one day) as y:"
   ]
  },
  {
   "cell_type": "code",
   "execution_count": 32,
   "metadata": {},
   "outputs": [
    {
     "data": {
      "text/plain": [
       "(248,)"
      ]
     },
     "execution_count": 32,
     "metadata": {},
     "output_type": "execute_result"
    }
   ],
   "source": [
    "y = stock_price_data['close_price_shifted']\n",
    "y.shape"
   ]
  },
  {
   "cell_type": "markdown",
   "metadata": {},
   "source": [
    "#### Creating the predictor variables by dropping the 'close_price_shifted' column from stock_price_data : "
   ]
  },
  {
   "cell_type": "code",
   "execution_count": 33,
   "metadata": {},
   "outputs": [
    {
     "data": {
      "text/html": [
       "<div>\n",
       "<style scoped>\n",
       "    .dataframe tbody tr th:only-of-type {\n",
       "        vertical-align: middle;\n",
       "    }\n",
       "\n",
       "    .dataframe tbody tr th {\n",
       "        vertical-align: top;\n",
       "    }\n",
       "\n",
       "    .dataframe thead th {\n",
       "        text-align: right;\n",
       "    }\n",
       "</style>\n",
       "<table border=\"1\" class=\"dataframe\">\n",
       "  <thead>\n",
       "    <tr style=\"text-align: right;\">\n",
       "      <th></th>\n",
       "      <th>close</th>\n",
       "      <th>compound</th>\n",
       "      <th>compound_shifted</th>\n",
       "      <th>open</th>\n",
       "      <th>high</th>\n",
       "      <th>low</th>\n",
       "      <th>volume</th>\n",
       "    </tr>\n",
       "  </thead>\n",
       "  <tbody>\n",
       "    <tr>\n",
       "      <th>2019-12-18</th>\n",
       "      <td>41558.570313</td>\n",
       "      <td>-0.9999</td>\n",
       "      <td>-0.9997</td>\n",
       "      <td>41442.750000</td>\n",
       "      <td>41614.769531</td>\n",
       "      <td>41358.468750</td>\n",
       "      <td>24300.0</td>\n",
       "    </tr>\n",
       "    <tr>\n",
       "      <th>2019-12-19</th>\n",
       "      <td>41673.921875</td>\n",
       "      <td>-0.9997</td>\n",
       "      <td>-0.9999</td>\n",
       "      <td>41571.820313</td>\n",
       "      <td>41719.289063</td>\n",
       "      <td>41456.398438</td>\n",
       "      <td>33300.0</td>\n",
       "    </tr>\n",
       "    <tr>\n",
       "      <th>2019-12-20</th>\n",
       "      <td>41681.539063</td>\n",
       "      <td>-0.9999</td>\n",
       "      <td>-0.9997</td>\n",
       "      <td>41746.199219</td>\n",
       "      <td>41809.960938</td>\n",
       "      <td>41636.109375</td>\n",
       "      <td>33600.0</td>\n",
       "    </tr>\n",
       "    <tr>\n",
       "      <th>2019-12-23</th>\n",
       "      <td>41642.660156</td>\n",
       "      <td>-0.9997</td>\n",
       "      <td>-0.9999</td>\n",
       "      <td>41548.261719</td>\n",
       "      <td>41701.621094</td>\n",
       "      <td>41474.609375</td>\n",
       "      <td>6200.0</td>\n",
       "    </tr>\n",
       "    <tr>\n",
       "      <th>2019-12-24</th>\n",
       "      <td>41461.261719</td>\n",
       "      <td>-0.9999</td>\n",
       "      <td>-0.9999</td>\n",
       "      <td>41684.511719</td>\n",
       "      <td>41702.980469</td>\n",
       "      <td>41423.070313</td>\n",
       "      <td>4400.0</td>\n",
       "    </tr>\n",
       "  </tbody>\n",
       "</table>\n",
       "</div>"
      ],
      "text/plain": [
       "                   close  compound  compound_shifted          open  \\\n",
       "2019-12-18  41558.570313   -0.9999           -0.9997  41442.750000   \n",
       "2019-12-19  41673.921875   -0.9997           -0.9999  41571.820313   \n",
       "2019-12-20  41681.539063   -0.9999           -0.9997  41746.199219   \n",
       "2019-12-23  41642.660156   -0.9997           -0.9999  41548.261719   \n",
       "2019-12-24  41461.261719   -0.9999           -0.9999  41684.511719   \n",
       "\n",
       "                    high           low   volume  \n",
       "2019-12-18  41614.769531  41358.468750  24300.0  \n",
       "2019-12-19  41719.289063  41456.398438  33300.0  \n",
       "2019-12-20  41809.960938  41636.109375  33600.0  \n",
       "2019-12-23  41701.621094  41474.609375   6200.0  \n",
       "2019-12-24  41702.980469  41423.070313   4400.0  "
      ]
     },
     "execution_count": 33,
     "metadata": {},
     "output_type": "execute_result"
    }
   ],
   "source": [
    "x = stock_price_data.drop(['close_price_shifted'],axis=1)\n",
    "x.head()"
   ]
  },
  {
   "cell_type": "markdown",
   "metadata": {},
   "source": [
    "#### Scaling the variables to keep the value between -1 to 1 using MinMaxScaler inorder to restrict huge changes in data :"
   ]
  },
  {
   "cell_type": "code",
   "execution_count": 34,
   "metadata": {},
   "outputs": [],
   "source": [
    "scaler = preprocessing.MinMaxScaler(feature_range=(-1,1))\n",
    "y = scaler.fit_transform(np.array(y).reshape(-1,1))\n",
    "x = scaler.fit_transform(x)"
   ]
  },
  {
   "cell_type": "markdown",
   "metadata": {},
   "source": [
    "#### Creating the Training Set and Testing Set :"
   ]
  },
  {
   "cell_type": "code",
   "execution_count": 35,
   "metadata": {},
   "outputs": [
    {
     "name": "stdout",
     "output_type": "stream",
     "text": [
      "Size of Training set X :  (199, 7)\n",
      "Size of Test set X :  (48, 7)\n",
      "Size of Training set Y :  (199, 1)\n",
      "Size of Testing set Y :  (48, 1)\n"
     ]
    }
   ],
   "source": [
    "X_train = x[:train_data_size,]\n",
    "X_test = x[train_data_size + 1: len(x),]\n",
    "y_train = y[:train_data_size,]\n",
    "y_test = y[train_data_size + 1 : len(y),]\n",
    "print('Size of Training set X : ',X_train.shape)\n",
    "print('Size of Test set X : ',X_test.shape)\n",
    "print('Size of Training set Y : ',y_train.shape)\n",
    "print('Size of Testing set Y : ',y_test.shape)"
   ]
  },
  {
   "cell_type": "markdown",
   "metadata": {},
   "source": [
    "#### Reshaping the X_train and X_test to 3D arrays for the model :\n"
   ]
  },
  {
   "cell_type": "code",
   "execution_count": 36,
   "metadata": {},
   "outputs": [],
   "source": [
    "X_train = X_train.reshape(-1,7,1)\n",
    "X_test = X_test.reshape(-1,7,1)"
   ]
  },
  {
   "cell_type": "markdown",
   "metadata": {},
   "source": [
    "## Creating the model :"
   ]
  },
  {
   "cell_type": "markdown",
   "metadata": {},
   "source": [
    "#### Here, as the question demands to learn from it's past values , so we will go for LSTM layers or RNN analogy to perform our task."
   ]
  },
  {
   "cell_type": "code",
   "execution_count": 37,
   "metadata": {},
   "outputs": [
    {
     "name": "stdout",
     "output_type": "stream",
     "text": [
      "Model: \"sequential\"\n",
      "_________________________________________________________________\n",
      "Layer (type)                 Output Shape              Param #   \n",
      "=================================================================\n",
      "lstm (LSTM)                  (None, 7, 100)            40800     \n",
      "_________________________________________________________________\n",
      "dropout (Dropout)            (None, 7, 100)            0         \n",
      "_________________________________________________________________\n",
      "lstm_1 (LSTM)                (None, 7, 100)            80400     \n",
      "_________________________________________________________________\n",
      "dropout_1 (Dropout)          (None, 7, 100)            0         \n",
      "_________________________________________________________________\n",
      "lstm_2 (LSTM)                (None, 100)               80400     \n",
      "_________________________________________________________________\n",
      "dropout_2 (Dropout)          (None, 100)               0         \n",
      "_________________________________________________________________\n",
      "dense (Dense)                (None, 1)                 101       \n",
      "=================================================================\n",
      "Total params: 201,701\n",
      "Trainable params: 201,701\n",
      "Non-trainable params: 0\n",
      "_________________________________________________________________\n"
     ]
    }
   ],
   "source": [
    "model = Sequential()\n",
    "model.add(LSTM(100, return_sequences=True, activation='tanh',input_shape= X_train.shape[1:]))\n",
    "model.add(Dropout(0.2))\n",
    "model.add(LSTM(100, return_sequences=True, activation='tanh'))\n",
    "model.add(Dropout(0.2))\n",
    "model.add(LSTM(100,return_sequences=False,activation='tanh'))\n",
    "model.add(Dropout(0.2))\n",
    "model.add(Dense(1))\n",
    "\n",
    "model.summary()"
   ]
  },
  {
   "cell_type": "markdown",
   "metadata": {},
   "source": [
    "## Fitting the model on Training Set as well as checking it's performance on Test set :"
   ]
  },
  {
   "cell_type": "code",
   "execution_count": 38,
   "metadata": {},
   "outputs": [
    {
     "name": "stdout",
     "output_type": "stream",
     "text": [
      "Epoch 1/20\n",
      "20/20 [==============================] - 33s 100ms/step - loss: 0.1003 - val_loss: 0.0210\n",
      "Epoch 2/20\n",
      "20/20 [==============================] - 0s 11ms/step - loss: 0.0122 - val_loss: 0.0190\n",
      "Epoch 3/20\n",
      "20/20 [==============================] - 0s 15ms/step - loss: 0.0157 - val_loss: 0.0231\n",
      "Epoch 4/20\n",
      "20/20 [==============================] - 0s 15ms/step - loss: 0.0115 - val_loss: 0.0217\n",
      "Epoch 5/20\n",
      "20/20 [==============================] - 0s 15ms/step - loss: 0.0135 - val_loss: 0.0265\n",
      "Epoch 6/20\n",
      "20/20 [==============================] - 0s 15ms/step - loss: 0.0090 - val_loss: 0.0252\n",
      "Epoch 7/20\n",
      "20/20 [==============================] - 0s 14ms/step - loss: 0.0091 - val_loss: 0.0294\n",
      "Epoch 8/20\n",
      "20/20 [==============================] - 0s 16ms/step - loss: 0.0090 - val_loss: 0.0254\n",
      "Epoch 9/20\n",
      "20/20 [==============================] - 0s 12ms/step - loss: 0.0083 - val_loss: 0.0301\n",
      "Epoch 10/20\n",
      "20/20 [==============================] - 0s 17ms/step - loss: 0.0106 - val_loss: 0.0339\n",
      "Epoch 11/20\n",
      "20/20 [==============================] - 0s 17ms/step - loss: 0.0072 - val_loss: 0.0192\n",
      "Epoch 12/20\n",
      "20/20 [==============================] - 0s 15ms/step - loss: 0.0075 - val_loss: 0.0242\n",
      "Epoch 13/20\n",
      "20/20 [==============================] - 0s 15ms/step - loss: 0.0086 - val_loss: 0.0500\n",
      "Epoch 14/20\n",
      "20/20 [==============================] - 0s 14ms/step - loss: 0.0079 - val_loss: 0.0679\n",
      "Epoch 15/20\n",
      "20/20 [==============================] - 0s 15ms/step - loss: 0.0107 - val_loss: 0.0253\n",
      "Epoch 16/20\n",
      "20/20 [==============================] - 0s 14ms/step - loss: 0.0109 - val_loss: 0.0160\n",
      "Epoch 17/20\n",
      "20/20 [==============================] - 0s 14ms/step - loss: 0.0081 - val_loss: 0.0220\n",
      "Epoch 18/20\n",
      "20/20 [==============================] - 0s 14ms/step - loss: 0.0096 - val_loss: 0.0250\n",
      "Epoch 19/20\n",
      "20/20 [==============================] - 0s 18ms/step - loss: 0.0095 - val_loss: 0.0220\n",
      "Epoch 20/20\n",
      "20/20 [==============================] - 0s 13ms/step - loss: 0.0052 - val_loss: 0.0409\n"
     ]
    }
   ],
   "source": [
    "model.compile(optimizer='rmsprop',loss='mse')\n",
    "history = model.fit(X_train,y_train, epochs=20, batch_size=10, validation_data=(X_test,y_test))"
   ]
  },
  {
   "cell_type": "markdown",
   "metadata": {},
   "source": [
    "## Plot of Loss vs Epoch for the given Model :"
   ]
  },
  {
   "cell_type": "code",
   "execution_count": 39,
   "metadata": {},
   "outputs": [
    {
     "data": {
      "image/png": "[encoded data removed]",
      "text/plain": [
       "<Figure size 432x288 with 1 Axes>"
      ]
     },
     "metadata": {
      "needs_background": "light"
     },
     "output_type": "display_data"
    }
   ],
   "source": [
    "plt.plot(history.history['loss'])\n",
    "plt.plot(history.history['val_loss'])\n",
    "plt.title('model loss')\n",
    "plt.ylabel('loss')\n",
    "plt.xlabel('epoch')\n",
    "plt.legend(['train', 'test'], loc='upper left')\n",
    "plt.show()"
   ]
  },
  {
   "cell_type": "markdown",
   "metadata": {},
   "source": [
    "## Saving the model and respective Weights :"
   ]
  },
  {
   "cell_type": "code",
   "execution_count": 40,
   "metadata": {},
   "outputs": [],
   "source": [
    "model_json = model.to_json()\n",
    "with open('model.json','w') as file :\n",
    "    file.write(model_json)\n",
    "model.save_weights('model.h5')"
   ]
  },
  {
   "cell_type": "markdown",
   "metadata": {},
   "source": [
    "### THANK YOU"
   ]
  },
  {
   "cell_type": "code",
   "execution_count": null,
   "metadata": {},
   "outputs": [],
   "source": []
  }
 ],
 "metadata": {
  "kernelspec": {
   "display_name": "Python 3",
   "language": "python",
   "name": "python3"
  },
  "language_info": {
   "codemirror_mode": {
    "name": "ipython",
    "version": 3
   },
   "file_extension": ".py",
   "mimetype": "text/x-python",
   "name": "python",
   "nbconvert_exporter": "python",
   "pygments_lexer": "ipython3",
   "version": "3.8.5"
  }
 },
 "nbformat": 4,
 "nbformat_minor": 4
}
